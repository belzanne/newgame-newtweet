{
 "cells": [
  {
   "cell_type": "code",
   "execution_count": 50,
   "metadata": {},
   "outputs": [
    {
     "name": "stdout",
     "output_type": "stream",
     "text": [
      "[{'title': 'AtomicMassGames (@AtomicMassGames) | Twitter', 'href': 'https://twitter.com/atomicmassgames/', 'body': 'Follow @AtomicMassGames to get the latest news, updates, and previews of their tabletop miniatures games based on Marvel comics and Star Wars.'}, {'title': 'Atomic Mass Games on Twitter', 'href': 'https://twitter.com/atomicmassgames/status/1498738602255306752', 'body': 'Atomic Mass Games \\u200f @atomicmassgames ... Can you please release these in game stores later tho? Not everyone has the chance to go to tournaments. 1 reply 0 retweets 3 likes. Reply. 1. ... Twitter may be over capacity or experiencing a momentary hiccup. Try again or visit Twitter Status for more information.'}, {'title': 'Atomic Mass Games on Twitter: \"We proudly present Star WarsTM ...', 'href': 'https://twitter.com/atomicmassgames/status/1590388822675968001', 'body': 'We proudly present Star WarsTM: Shatterpoint. Iconic characters from across the galaxy clash in this new miniatures skirmish game. Coming Summer 2023!'}, {'title': 'Home - atomicmassgames', 'href': 'https://www.atomicmassgames.com/', 'body': 'STAR WARS: Legion Refresh Deep Dive Star Wars: Legion 07/18/2024. In this transmission, The Star Wars: Legion Development Team shares an in-depth look at the updates and upgrades for the general rules, objectives, movement, and more for the new rules refresh.'}, {'title': 'Star Wars : Shatterpoint - Atomic Mass Games', 'href': 'https://www.atomicmassgames.com/shatterpoint/', 'body': 'Star Wars. : Shatterpoint. The Star Wars ™: Shatterpoint game empowers players to alter the fate of the galaxy, from the Core Worlds to the Outer Rim. Players build and command a strike team composed of iconic Star Wars characters and pit them against each other in exciting battles!'}]\n"
     ]
    }
   ],
   "source": [
    "from duckduckgo_search import DDGS\n",
    "\n",
    "results = DDGS().text(\"Atomic Games twitter\", max_results=5)\n",
    "print(results)"
   ]
  }
 ],
 "metadata": {
  "kernelspec": {
   "display_name": "newgame-newtweet-icRyx73a-py3.12",
   "language": "python",
   "name": "python3"
  },
  "language_info": {
   "codemirror_mode": {
    "name": "ipython",
    "version": 3
   },
   "file_extension": ".py",
   "mimetype": "text/x-python",
   "name": "python",
   "nbconvert_exporter": "python",
   "pygments_lexer": "ipython3",
   "version": "3.12.4"
  }
 },
 "nbformat": 4,
 "nbformat_minor": 2
}
