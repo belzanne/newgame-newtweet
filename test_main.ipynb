{
 "cells": [
  {
   "cell_type": "code",
   "execution_count": 109,
   "metadata": {},
   "outputs": [
    {
     "name": "stdout",
     "output_type": "stream",
     "text": [
      "{'105600': {'success': True, 'data': {'type': 'game', 'name': 'Terraria', 'steam_appid': 105600, 'required_age': 0, 'is_free': False, 'controller_support': 'full', 'dlc': [409210, 1323320], 'detailed_description': 'Dig, Fight, Explore, Build:  The very world is at your fingertips as you fight for survival, fortune, and glory.   Will you delve deep into cavernous expanses in search of treasure and raw materials with which to craft ever-evolving gear, machinery, and aesthetics?   Perhaps you will choose instead to seek out ever-greater foes to test your mettle in combat?   Maybe you will decide to construct your own city to house the host of mysterious allies you may encounter along your travels? <br><br>In the World of Terraria, the choice is yours!<br><br>Blending elements of classic action games with the freedom of sandbox-style creativity, Terraria is a unique gaming experience where both the journey and the destination are completely in the player’s control.   The Terraria adventure is truly as unique as the players themselves!  <br><br>Are you up for the monumental task of exploring, creating, and defending a world of your own?  <br><br>\\t\\t\\t\\t\\t\\t\\t<strong>Key features:</strong><br>\\t\\t\\t\\t\\t\\t\\t<ul class=\"bb_ul\"><li>Sandbox Play<br>\\t\\t\\t\\t\\t\\t\\t</li><li> Randomly generated worlds<br>\\t\\t\\t\\t\\t\\t\\t</li><li>Free Content Updates<br>\\t\\t\\t\\t\\t\\t\\t</li></ul>', 'about_the_game': 'Dig, Fight, Explore, Build:  The very world is at your fingertips as you fight for survival, fortune, and glory.   Will you delve deep into cavernous expanses in search of treasure and raw materials with which to craft ever-evolving gear, machinery, and aesthetics?   Perhaps you will choose instead to seek out ever-greater foes to test your mettle in combat?   Maybe you will decide to construct your own city to house the host of mysterious allies you may encounter along your travels? <br><br>In the World of Terraria, the choice is yours!<br><br>Blending elements of classic action games with the freedom of sandbox-style creativity, Terraria is a unique gaming experience where both the journey and the destination are completely in the player’s control.   The Terraria adventure is truly as unique as the players themselves!  <br><br>Are you up for the monumental task of exploring, creating, and defending a world of your own?  <br><br>\\t\\t\\t\\t\\t\\t\\t<strong>Key features:</strong><br>\\t\\t\\t\\t\\t\\t\\t<ul class=\"bb_ul\"><li>Sandbox Play<br>\\t\\t\\t\\t\\t\\t\\t</li><li> Randomly generated worlds<br>\\t\\t\\t\\t\\t\\t\\t</li><li>Free Content Updates<br>\\t\\t\\t\\t\\t\\t\\t</li></ul>', 'short_description': 'Dig, fight, explore, build! Nothing is impossible in this action-packed adventure game. Four Pack also available!', 'supported_languages': 'English, French, Italian, German, Spanish - Spain, Polish, Portuguese - Brazil, Russian, Simplified Chinese', 'header_image': 'https://shared.akamai.steamstatic.com/store_item_assets/steam/apps/105600/header.jpg?t=1666290860', 'capsule_image': 'https://shared.akamai.steamstatic.com/store_item_assets/steam/apps/105600/capsule_231x87.jpg?t=1666290860', 'capsule_imagev5': 'https://shared.akamai.steamstatic.com/store_item_assets/steam/apps/105600/capsule_184x69.jpg?t=1666290860', 'website': 'http://www.terraria.org/', 'pc_requirements': {'minimum': '<h2 class=\"bb_tag\"><strong>REQUIRED</strong></h2><ul class=\"bb_ul\"><li><strong>OS: Windows Xp, Vista, 7, 8/8.1, 10</strong> <br>\\t\\t\\t\\t\\t\\t\\t\\t\\t\\t</li><li><strong>Processor: 2.0 Ghz</strong> <br>\\t\\t\\t\\t\\t\\t\\t\\t\\t\\t</li><li><strong>Memory: 2.5GB</strong><br>\\t\\t\\t\\t\\t\\t\\t\\t\\t\\t</li><li><strong>Hard Disk Space: 200MB </strong> \\t<br>\\t\\t\\t\\t\\t\\t\\t\\t\\t\\t</li><li><strong>Video Card: 128mb Video Memory, capable of Shader Model 2.0+</strong> <br>\\t\\t\\t\\t\\t\\t\\t\\t\\t\\t</li><li><strong>DirectX®: 9.0c or Greater</strong> \\t<br>\\t\\t\\t\\t\\t\\t\\t\\t\\t</li></ul>', 'recommended': '<h2 class=\"bb_tag\"><strong>RECOMMENDED</strong></h2><ul class=\"bb_ul\"><li><strong>OS: Windows 7, 8/8.1, 10</strong> <br>\\t\\t\\t\\t\\t\\t\\t\\t\\t\\t</li><li><strong>Processor: Dual Core 3.0 Ghz</strong> <br>\\t\\t\\t\\t\\t\\t\\t\\t\\t\\t</li><li><strong>Memory: 4GB</strong><br>\\t\\t\\t\\t\\t\\t\\t\\t\\t\\t</li><li><strong>Hard Disk Space: 200MB </strong> \\t<br>\\t\\t\\t\\t\\t\\t\\t\\t\\t\\t</li><li><strong>Video Card: 256mb Video Memory, capable of Shader Model 2.0+</strong> <br>\\t\\t\\t\\t\\t\\t\\t\\t\\t\\t</li><li><strong>DirectX®: 9.0c or Greater</strong> \\t<br>\\t\\t\\t\\t\\t\\t\\t\\t\\t</li></ul>'}, 'mac_requirements': {'minimum': '<h2 class=\"bb_tag\"><strong>REQUIRED</strong></h2><ul class=\"bb_ul\"><li><strong>OS: OSX 10.9.5 - 10.11.6</strong> <br>\\t\\t\\t\\t\\t\\t\\t\\t\\t\\t</li><li><strong>Processor: 2.0 Ghz</strong> <br>\\t\\t\\t\\t\\t\\t\\t\\t\\t\\t</li><li><strong>Memory: 2.5GB</strong><br>\\t\\t\\t\\t\\t\\t\\t\\t\\t\\t</li><li><strong>Hard Disk Space: 200MB </strong> \\t<br>\\t\\t\\t\\t\\t\\t\\t\\t\\t\\t</li><li><strong>Video Card: 128mb Video Memory, capable of OpenGL 3.0+ support (2.1 with ARB extensions acceptable</strong> <br>\\t\\t\\t\\t\\t\\t\\t\\t\\t</li></ul>', 'recommended': '<h2 class=\"bb_tag\"><strong>RECOMMENDED</strong></h2><ul class=\"bb_ul\"><li><strong>OS: OSX 10.9.5 - 10.11.6</strong> <br>\\t\\t\\t\\t\\t\\t\\t\\t\\t\\t</li><li><strong>Processor: Dual Core 3.0 Ghz</strong> <br>\\t\\t\\t\\t\\t\\t\\t\\t\\t\\t</li><li><strong>Memory: 4GB</strong><br>\\t\\t\\t\\t\\t\\t\\t\\t\\t\\t</li><li><strong>Hard Disk Space: 200MB </strong> \\t<br>\\t\\t\\t\\t\\t\\t\\t\\t\\t\\t</li><li><strong>Video Card: 256mb Video Memory, capable of OpenGL 3.0+ support (2.1 with ARB extensions acceptable</strong> <br>\\t\\t\\t\\t\\t\\t\\t\\t\\t</li></ul>'}, 'linux_requirements': {'minimum': '<h2 class=\"bb_tag\"><strong>REQUIRED</strong></h2>LINUX<br><ul class=\"bb_ul\"><li><strong>OS: Ubuntu 14.04 LTS</strong> <br>\\t\\t\\t\\t\\t\\t\\t\\t\\t\\t</li><li><strong>Processor: 2.0 Ghz</strong> <br>\\t\\t\\t\\t\\t\\t\\t\\t\\t\\t</li><li><strong>Memory: 2.5GB</strong><br>\\t\\t\\t\\t\\t\\t\\t\\t\\t\\t</li><li><strong>Hard Disk Space: 200MB </strong> \\t<br>\\t\\t\\t\\t\\t\\t\\t\\t\\t\\t</li><li><strong>Video Card: 128mb Video Memory, capable of OpenGL 3.0+ support (2.1 with ARB extensions acceptable</strong> <br>\\t\\t\\t\\t\\t\\t\\t\\t\\t</li></ul>', 'recommended': '<h2 class=\"bb_tag\"><strong>RECOMMENDED</strong></h2>LINUX<br><ul class=\"bb_ul\"><li><strong>OS: Ubuntu 14.04 LTS</strong> <br>\\t\\t\\t\\t\\t\\t\\t\\t\\t\\t</li><li><strong>Processor: Dual Core 3.0 Ghz</strong> <br>\\t\\t\\t\\t\\t\\t\\t\\t\\t\\t</li><li><strong>Memory: 4GB</strong><br>\\t\\t\\t\\t\\t\\t\\t\\t\\t\\t</li><li><strong>Hard Disk Space: 200MB </strong> \\t<br>\\t\\t\\t\\t\\t\\t\\t\\t\\t\\t</li><li><strong>Video Card: 256mb Video Memory, capable of OpenGL 3.0+ support (2.1 with ARB extensions acceptable</strong> <br>\\t\\t\\t\\t\\t\\t\\t\\t\\t</li></ul>'}}}}\n"
     ]
    }
   ],
   "source": [
    "import os\n",
    "from steam_web_api import Steam\n",
    "\n",
    "KEY = os.environ.get(\"STEAM_API_KEY\")\n",
    "steam = Steam(KEY)\n",
    "\n",
    "terraria_app_id = 105600\n",
    "\n",
    "# arguments: app_id\n",
    "user = steam.apps.get_app_details(terraria_app_id)\n",
    "print(user)"
   ]
  },
  {
   "cell_type": "code",
   "execution_count": 110,
   "metadata": {},
   "outputs": [],
   "source": [
    "import sqlite3\n",
    "import requests\n",
    "import tweepy\n",
    "import os\n",
    "import json\n",
    "from dotenv import load_dotenv\n",
    "import tempfile\n",
    "from github import Github\n",
    "import base64\n",
    "import time\n",
    "from datetime import datetime, timedelta\n",
    "import pytz\n"
   ]
  },
  {
   "cell_type": "code",
   "execution_count": 111,
   "metadata": {},
   "outputs": [
    {
     "data": {
      "text/plain": [
       "True"
      ]
     },
     "execution_count": 111,
     "metadata": {},
     "output_type": "execute_result"
    }
   ],
   "source": [
    "# Charger les variables d'environnement\n",
    "load_dotenv()"
   ]
  },
  {
   "cell_type": "code",
   "execution_count": 112,
   "metadata": {},
   "outputs": [],
   "source": [
    "# Configuration\n",
    "GITHUB_REPO = 'steampage-creation-date'\n",
    "DB_FILE_PATH = 'steam_games.db'\n",
    "PARIS_TZ = pytz.timezone('Europe/Paris')\n",
    "TIMESTAMP_THRESHOLD = int((datetime.now(PARIS_TZ) - timedelta(days=1)).timestamp())"
   ]
  },
  {
   "cell_type": "code",
   "execution_count": 113,
   "metadata": {},
   "outputs": [],
   "source": [
    "#pour télécharger steam_games.db de manière temporaire \n",
    "import sqlite3\n",
    "import requests\n",
    "import tweepy\n",
    "import os\n",
    "from dotenv import load_dotenv\n",
    "import tempfile\n",
    "from datetime import datetime, timedelta\n",
    "import pytz\n",
    "\n",
    "# Charger les variables d'environnement\n",
    "load_dotenv()\n",
    "\n",
    "# Configuration\n",
    "GITHUB_REPO = 'steampage-creation-date'\n",
    "DB_FILE_PATH = 'steam_games.db'\n",
    "PARIS_TZ = pytz.timezone('Europe/Paris')\n",
    "TIMESTAMP_THRESHOLD = int((datetime.now(PARIS_TZ) - timedelta(days=1)).timestamp())\n",
    "\n",
    "def download_db(url, local_path):\n",
    "    response = requests.get(url, stream=True)\n",
    "    if response.status_code == 200:\n",
    "        with open(local_path, 'wb') as f:\n",
    "            for chunk in response.iter_content(chunk_size=8192):\n",
    "                f.write(chunk)\n",
    "        return True\n",
    "    print(f\"Échec du téléchargement de la base de données. Code de statut: {response.status_code}\")\n",
    "    return False\n",
    "\n",
    "def connect_to_db(db_path):\n",
    "    return sqlite3.connect(db_path)\n",
    "\n",
    "def check_new_entries(conn):\n",
    "    cursor = conn.cursor()\n",
    "    cursor.execute(\"\"\"\n",
    "        SELECT steam_game_id, first_seen\n",
    "        FROM games \n",
    "        WHERE first_seen >= ?\n",
    "    \"\"\", (TIMESTAMP_THRESHOLD,))\n",
    "    return cursor.fetchall()\n",
    "\n",
    "def get_game_details(steam_game_id):\n",
    "    url = f\"https://store.steampowered.com/api/appdetails?appids={steam_game_id}\"\n",
    "    response = requests.get(url)\n",
    "    if response.status_code == 200:\n",
    "        data = response.json()\n",
    "        if data[str(steam_game_id)]['success']:\n",
    "            return data[str(steam_game_id)]['data']\n",
    "    return None\n",
    "\n",
    "def filter_game(game_data):\n",
    "    return game_data['type'] == 'game' and not game_data.get('dlc', False)\n",
    "\n",
    "def get_twitter_client():\n",
    "    client = tweepy.Client(\n",
    "        consumer_key=os.getenv('TWITTER_CONSUMER_KEY'),\n",
    "        consumer_secret=os.getenv('TWITTER_CONSUMER_SECRET'),\n",
    "        access_token=os.getenv('TWITTER_ACCESS_TOKEN'),\n",
    "        access_token_secret=os.getenv('TWITTER_ACCESS_TOKEN_SECRET')\n",
    "    )\n",
    "    return client\n",
    "\n",
    "def format_tweet_message(game_data):\n",
    "    name = game_data['name']\n",
    "    genres = \", \".join([genre['description'] for genre in game_data['genres']])\n",
    "    description = game_data['short_description']\n",
    "    developers = \", \".join(game_data['developers'])\n",
    "    return f\"{name}. {genres}. \\\"{description}\\\". Développé par: {developers}\"\n",
    "\n",
    "def send_tweet(message):\n",
    "    client = get_twitter_client()\n",
    "    try:\n",
    "        response = client.create_tweet(text=message)\n",
    "        return response.data['id']\n",
    "    except Exception as e:\n",
    "        print(f\"Erreur lors de la création du tweet: {e}\")\n",
    "        return None\n",
    "\n",
    "def main():\n",
    "    db_url = f\"https://raw.githubusercontent.com/{os.getenv('GITHUB_USERNAME')}/{GITHUB_REPO}/main/{DB_FILE_PATH}\"\n",
    "    \n",
    "    with tempfile.NamedTemporaryFile(delete=False, suffix='.db') as temp_db:\n",
    "        if download_db(db_url, temp_db.name):\n",
    "            conn = connect_to_db(temp_db.name)\n",
    "            new_entries = check_new_entries(conn)\n",
    "            \n",
    "            for steam_game_id, first_seen in new_entries:\n",
    "                print(f\"Nouveau jeu trouvé : Steam ID: {steam_game_id}, First Seen: {first_seen}\")\n",
    "                game_data = get_game_details(steam_game_id)\n",
    "                if game_data and filter_game(game_data):\n",
    "                    message = format_tweet_message(game_data)\n",
    "                    tweet_id = send_tweet(message)\n",
    "                    if tweet_id:\n",
    "                        print(f\"Tweet publié pour {game_data['name']} (ID: {tweet_id})\")\n",
    "                else:\n",
    "                    print(f\"Le jeu avec Steam ID {steam_game_id} ne répond pas aux critères de tweet ou les détails n'ont pas pu être récupérés.\")\n",
    "            \n",
    "            conn.close()\n",
    "        else:\n",
    "            print(\"Échec du téléchargement de la base de données\")\n",
    "    \n",
    "    os.unlink(temp_db.name)  # Supprime le fichier temporaire\n",
    "\n"
   ]
  },
  {
   "cell_type": "code",
   "execution_count": 114,
   "metadata": {},
   "outputs": [
    {
     "data": {
      "text/plain": [
       "True"
      ]
     },
     "execution_count": 114,
     "metadata": {},
     "output_type": "execute_result"
    }
   ],
   "source": [
    "download_db(\"https://github.com/belzanne/steampage-creation-date/blob/main/steam_games.db\",\"/Users/juliebelzanne/Documents/Hush_Crasher/steam_data/newgame-newtweet/steam_games.db\")"
   ]
  },
  {
   "cell_type": "code",
   "execution_count": 115,
   "metadata": {},
   "outputs": [
    {
     "data": {
      "text/plain": [
       "<sqlite3.Connection at 0x114c1ef20>"
      ]
     },
     "execution_count": 115,
     "metadata": {},
     "output_type": "execute_result"
    }
   ],
   "source": [
    "connect_to_db(\"/Users/juliebelzanne/Documents/Hush_Crasher/steam_data/newgame-newtweet/steam_games.db\")"
   ]
  },
  {
   "cell_type": "code",
   "execution_count": 116,
   "metadata": {},
   "outputs": [
    {
     "name": "stdout",
     "output_type": "stream",
     "text": [
      "Nouveau jeu trouvé : Steam ID: 3116800, First Seen: 1721681830\n",
      "Erreur lors de la création du tweet: Consumer key must be string or bytes, not NoneType\n",
      "Nouveau jeu trouvé : Steam ID: 3114360, First Seen: 1721681830\n",
      "Erreur lors de la création du tweet: Consumer key must be string or bytes, not NoneType\n",
      "Nouveau jeu trouvé : Steam ID: 2904840, First Seen: 1721681830\n",
      "Le jeu avec Steam ID 2904840 ne répond pas aux critères de tweet ou les détails n'ont pas pu être récupérés.\n",
      "Nouveau jeu trouvé : Steam ID: 3071880, First Seen: 1721681830\n",
      "Erreur lors de la création du tweet: Consumer key must be string or bytes, not NoneType\n",
      "Nouveau jeu trouvé : Steam ID: 3109000, First Seen: 1721681830\n",
      "Erreur lors de la création du tweet: Consumer key must be string or bytes, not NoneType\n",
      "Nouveau jeu trouvé : Steam ID: 3076110, First Seen: 1721681830\n",
      "Erreur lors de la création du tweet: Consumer key must be string or bytes, not NoneType\n",
      "Nouveau jeu trouvé : Steam ID: 2904850, First Seen: 1721681830\n",
      "Le jeu avec Steam ID 2904850 ne répond pas aux critères de tweet ou les détails n'ont pas pu être récupérés.\n",
      "Nouveau jeu trouvé : Steam ID: 3062420, First Seen: 1721681830\n",
      "Le jeu avec Steam ID 3062420 ne répond pas aux critères de tweet ou les détails n'ont pas pu être récupérés.\n",
      "Nouveau jeu trouvé : Steam ID: 3116820, First Seen: 1721681830\n",
      "Erreur lors de la création du tweet: Consumer key must be string or bytes, not NoneType\n",
      "Nouveau jeu trouvé : Steam ID: 3069080, First Seen: 1721681830\n",
      "Erreur lors de la création du tweet: Consumer key must be string or bytes, not NoneType\n",
      "Nouveau jeu trouvé : Steam ID: 3092000, First Seen: 1721681830\n",
      "Erreur lors de la création du tweet: Consumer key must be string or bytes, not NoneType\n",
      "Nouveau jeu trouvé : Steam ID: 3111080, First Seen: 1721681830\n",
      "Erreur lors de la création du tweet: Consumer key must be string or bytes, not NoneType\n",
      "Nouveau jeu trouvé : Steam ID: 2402090, First Seen: 1721681830\n",
      "Erreur lors de la création du tweet: Consumer key must be string or bytes, not NoneType\n",
      "Nouveau jeu trouvé : Steam ID: 3067690, First Seen: 1721681830\n",
      "Le jeu avec Steam ID 3067690 ne répond pas aux critères de tweet ou les détails n'ont pas pu être récupérés.\n",
      "Nouveau jeu trouvé : Steam ID: 3098670, First Seen: 1721681830\n",
      "Erreur lors de la création du tweet: Consumer key must be string or bytes, not NoneType\n",
      "Nouveau jeu trouvé : Steam ID: 3105070, First Seen: 1721681830\n",
      "Le jeu avec Steam ID 3105070 ne répond pas aux critères de tweet ou les détails n'ont pas pu être récupérés.\n",
      "Nouveau jeu trouvé : Steam ID: 3062450, First Seen: 1721681830\n",
      "Erreur lors de la création du tweet: Consumer key must be string or bytes, not NoneType\n",
      "Nouveau jeu trouvé : Steam ID: 2924980, First Seen: 1721681830\n",
      "Erreur lors de la création du tweet: Consumer key must be string or bytes, not NoneType\n",
      "Nouveau jeu trouvé : Steam ID: 3118260, First Seen: 1721681830\n",
      "Erreur lors de la création du tweet: Consumer key must be string or bytes, not NoneType\n",
      "Nouveau jeu trouvé : Steam ID: 3101110, First Seen: 1721681830\n",
      "Erreur lors de la création du tweet: Consumer key must be string or bytes, not NoneType\n",
      "Nouveau jeu trouvé : Steam ID: 2956600, First Seen: 1721681830\n",
      "Erreur lors de la création du tweet: Consumer key must be string or bytes, not NoneType\n",
      "Nouveau jeu trouvé : Steam ID: 3049150, First Seen: 1721681830\n",
      "Le jeu avec Steam ID 3049150 ne répond pas aux critères de tweet ou les détails n'ont pas pu être récupérés.\n",
      "Nouveau jeu trouvé : Steam ID: 3071170, First Seen: 1721681830\n",
      "Erreur lors de la création du tweet: Consumer key must be string or bytes, not NoneType\n",
      "Nouveau jeu trouvé : Steam ID: 2833100, First Seen: 1721681830\n",
      "Le jeu avec Steam ID 2833100 ne répond pas aux critères de tweet ou les détails n'ont pas pu être récupérés.\n",
      "Nouveau jeu trouvé : Steam ID: 3077710, First Seen: 1721681830\n",
      "Erreur lors de la création du tweet: Consumer key must be string or bytes, not NoneType\n",
      "Nouveau jeu trouvé : Steam ID: 3098190, First Seen: 1721681830\n",
      "Le jeu avec Steam ID 3098190 ne répond pas aux critères de tweet ou les détails n'ont pas pu être récupérés.\n",
      "Nouveau jeu trouvé : Steam ID: 3113550, First Seen: 1721681830\n",
      "Erreur lors de la création du tweet: Consumer key must be string or bytes, not NoneType\n",
      "Nouveau jeu trouvé : Steam ID: 3086550, First Seen: 1721681830\n",
      "Erreur lors de la création du tweet: Consumer key must be string or bytes, not NoneType\n",
      "Nouveau jeu trouvé : Steam ID: 3110870, First Seen: 1721681830\n",
      "Le jeu avec Steam ID 3110870 ne répond pas aux critères de tweet ou les détails n'ont pas pu être récupérés.\n",
      "Nouveau jeu trouvé : Steam ID: 3120480, First Seen: 1721681830\n",
      "Le jeu avec Steam ID 3120480 ne répond pas aux critères de tweet ou les détails n'ont pas pu être récupérés.\n",
      "Nouveau jeu trouvé : Steam ID: 2853730, First Seen: 1721681830\n",
      "Erreur lors de la création du tweet: Consumer key must be string or bytes, not NoneType\n",
      "Nouveau jeu trouvé : Steam ID: 3091940, First Seen: 1721681830\n",
      "Erreur lors de la création du tweet: Consumer key must be string or bytes, not NoneType\n",
      "Nouveau jeu trouvé : Steam ID: 3116260, First Seen: 1721681830\n",
      "Erreur lors de la création du tweet: Consumer key must be string or bytes, not NoneType\n",
      "Nouveau jeu trouvé : Steam ID: 3110120, First Seen: 1721681830\n",
      "Erreur lors de la création du tweet: Consumer key must be string or bytes, not NoneType\n",
      "Nouveau jeu trouvé : Steam ID: 3048300, First Seen: 1721681830\n",
      "Erreur lors de la création du tweet: Consumer key must be string or bytes, not NoneType\n",
      "Nouveau jeu trouvé : Steam ID: 3116780, First Seen: 1721681830\n",
      "Erreur lors de la création du tweet: Consumer key must be string or bytes, not NoneType\n",
      "Nouveau jeu trouvé : Steam ID: 3101550, First Seen: 1721681830\n",
      "Le jeu avec Steam ID 3101550 ne répond pas aux critères de tweet ou les détails n'ont pas pu être récupérés.\n",
      "Nouveau jeu trouvé : Steam ID: 3121780, First Seen: 1721681830\n",
      "Erreur lors de la création du tweet: Consumer key must be string or bytes, not NoneType\n",
      "Nouveau jeu trouvé : Steam ID: 2964470, First Seen: 1721681830\n",
      "Erreur lors de la création du tweet: Consumer key must be string or bytes, not NoneType\n",
      "Nouveau jeu trouvé : Steam ID: 2648440, First Seen: 1721681830\n",
      "Erreur lors de la création du tweet: Consumer key must be string or bytes, not NoneType\n",
      "Nouveau jeu trouvé : Steam ID: 3120380, First Seen: 1721681830\n",
      "Erreur lors de la création du tweet: Consumer key must be string or bytes, not NoneType\n",
      "Nouveau jeu trouvé : Steam ID: 2917760, First Seen: 1721692779\n",
      "Erreur lors de la création du tweet: Consumer key must be string or bytes, not NoneType\n",
      "Nouveau jeu trouvé : Steam ID: 2891170, First Seen: 1721692779\n",
      "Le jeu avec Steam ID 2891170 ne répond pas aux critères de tweet ou les détails n'ont pas pu être récupérés.\n",
      "Nouveau jeu trouvé : Steam ID: 3110150, First Seen: 1721692779\n",
      "Erreur lors de la création du tweet: Consumer key must be string or bytes, not NoneType\n",
      "Nouveau jeu trouvé : Steam ID: 3118520, First Seen: 1721692779\n",
      "Erreur lors de la création du tweet: Consumer key must be string or bytes, not NoneType\n",
      "Nouveau jeu trouvé : Steam ID: 3075050, First Seen: 1721692779\n",
      "Erreur lors de la création du tweet: Consumer key must be string or bytes, not NoneType\n",
      "Nouveau jeu trouvé : Steam ID: 3106860, First Seen: 1721692779\n",
      "Erreur lors de la création du tweet: Consumer key must be string or bytes, not NoneType\n",
      "Nouveau jeu trouvé : Steam ID: 3111310, First Seen: 1721692779\n",
      "Erreur lors de la création du tweet: Consumer key must be string or bytes, not NoneType\n",
      "Nouveau jeu trouvé : Steam ID: 2544180, First Seen: 1721692779\n"
     ]
    },
    {
     "ename": "KeyError",
     "evalue": "'genres'",
     "output_type": "error",
     "traceback": [
      "\u001b[0;31m---------------------------------------------------------------------------\u001b[0m",
      "\u001b[0;31mKeyError\u001b[0m                                  Traceback (most recent call last)",
      "Cell \u001b[0;32mIn[116], line 2\u001b[0m\n\u001b[1;32m      1\u001b[0m \u001b[38;5;28;01mif\u001b[39;00m \u001b[38;5;18m__name__\u001b[39m \u001b[38;5;241m==\u001b[39m \u001b[38;5;124m\"\u001b[39m\u001b[38;5;124m__main__\u001b[39m\u001b[38;5;124m\"\u001b[39m:\n\u001b[0;32m----> 2\u001b[0m     \u001b[43mmain\u001b[49m\u001b[43m(\u001b[49m\u001b[43m)\u001b[49m\n",
      "Cell \u001b[0;32mIn[113], line 91\u001b[0m, in \u001b[0;36mmain\u001b[0;34m()\u001b[0m\n\u001b[1;32m     89\u001b[0m game_data \u001b[38;5;241m=\u001b[39m get_game_details(steam_game_id)\n\u001b[1;32m     90\u001b[0m \u001b[38;5;28;01mif\u001b[39;00m game_data \u001b[38;5;129;01mand\u001b[39;00m filter_game(game_data):\n\u001b[0;32m---> 91\u001b[0m     message \u001b[38;5;241m=\u001b[39m \u001b[43mformat_tweet_message\u001b[49m\u001b[43m(\u001b[49m\u001b[43mgame_data\u001b[49m\u001b[43m)\u001b[49m\n\u001b[1;32m     92\u001b[0m     tweet_id \u001b[38;5;241m=\u001b[39m send_tweet(message)\n\u001b[1;32m     93\u001b[0m     \u001b[38;5;28;01mif\u001b[39;00m tweet_id:\n",
      "Cell \u001b[0;32mIn[113], line 65\u001b[0m, in \u001b[0;36mformat_tweet_message\u001b[0;34m(game_data)\u001b[0m\n\u001b[1;32m     63\u001b[0m \u001b[38;5;28;01mdef\u001b[39;00m \u001b[38;5;21mformat_tweet_message\u001b[39m(game_data):\n\u001b[1;32m     64\u001b[0m     name \u001b[38;5;241m=\u001b[39m game_data[\u001b[38;5;124m'\u001b[39m\u001b[38;5;124mname\u001b[39m\u001b[38;5;124m'\u001b[39m]\n\u001b[0;32m---> 65\u001b[0m     genres \u001b[38;5;241m=\u001b[39m \u001b[38;5;124m\"\u001b[39m\u001b[38;5;124m, \u001b[39m\u001b[38;5;124m\"\u001b[39m\u001b[38;5;241m.\u001b[39mjoin([genre[\u001b[38;5;124m'\u001b[39m\u001b[38;5;124mdescription\u001b[39m\u001b[38;5;124m'\u001b[39m] \u001b[38;5;28;01mfor\u001b[39;00m genre \u001b[38;5;129;01min\u001b[39;00m \u001b[43mgame_data\u001b[49m\u001b[43m[\u001b[49m\u001b[38;5;124;43m'\u001b[39;49m\u001b[38;5;124;43mgenres\u001b[39;49m\u001b[38;5;124;43m'\u001b[39;49m\u001b[43m]\u001b[49m])\n\u001b[1;32m     66\u001b[0m     description \u001b[38;5;241m=\u001b[39m game_data[\u001b[38;5;124m'\u001b[39m\u001b[38;5;124mshort_description\u001b[39m\u001b[38;5;124m'\u001b[39m]\n\u001b[1;32m     67\u001b[0m     developers \u001b[38;5;241m=\u001b[39m \u001b[38;5;124m\"\u001b[39m\u001b[38;5;124m, \u001b[39m\u001b[38;5;124m\"\u001b[39m\u001b[38;5;241m.\u001b[39mjoin(game_data[\u001b[38;5;124m'\u001b[39m\u001b[38;5;124mdevelopers\u001b[39m\u001b[38;5;124m'\u001b[39m])\n",
      "\u001b[0;31mKeyError\u001b[0m: 'genres'"
     ]
    }
   ],
   "source": [
    "if __name__ == \"__main__\":\n",
    "    main()"
   ]
  }
 ],
 "metadata": {
  "kernelspec": {
   "display_name": "newgame-newtweet-icRyx73a-py3.12",
   "language": "python",
   "name": "python3"
  },
  "language_info": {
   "codemirror_mode": {
    "name": "ipython",
    "version": 3
   },
   "file_extension": ".py",
   "mimetype": "text/x-python",
   "name": "python",
   "nbconvert_exporter": "python",
   "pygments_lexer": "ipython3",
   "version": "3.12.4"
  }
 },
 "nbformat": 4,
 "nbformat_minor": 2
}
