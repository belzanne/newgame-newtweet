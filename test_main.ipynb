{
 "cells": [
  {
   "cell_type": "code",
   "execution_count": 44,
   "metadata": {},
   "outputs": [
    {
     "name": "stdout",
     "output_type": "stream",
     "text": [
      "{'105600': {'success': True, 'data': {'type': 'game', 'name': 'Terraria', 'steam_appid': 105600, 'required_age': 0, 'is_free': False, 'controller_support': 'full', 'dlc': [409210, 1323320], 'detailed_description': 'Dig, Fight, Explore, Build:  The very world is at your fingertips as you fight for survival, fortune, and glory.   Will you delve deep into cavernous expanses in search of treasure and raw materials with which to craft ever-evolving gear, machinery, and aesthetics?   Perhaps you will choose instead to seek out ever-greater foes to test your mettle in combat?   Maybe you will decide to construct your own city to house the host of mysterious allies you may encounter along your travels? <br><br>In the World of Terraria, the choice is yours!<br><br>Blending elements of classic action games with the freedom of sandbox-style creativity, Terraria is a unique gaming experience where both the journey and the destination are completely in the player’s control.   The Terraria adventure is truly as unique as the players themselves!  <br><br>Are you up for the monumental task of exploring, creating, and defending a world of your own?  <br><br>\\t\\t\\t\\t\\t\\t\\t<strong>Key features:</strong><br>\\t\\t\\t\\t\\t\\t\\t<ul class=\"bb_ul\"><li>Sandbox Play<br>\\t\\t\\t\\t\\t\\t\\t</li><li> Randomly generated worlds<br>\\t\\t\\t\\t\\t\\t\\t</li><li>Free Content Updates<br>\\t\\t\\t\\t\\t\\t\\t</li></ul>', 'about_the_game': 'Dig, Fight, Explore, Build:  The very world is at your fingertips as you fight for survival, fortune, and glory.   Will you delve deep into cavernous expanses in search of treasure and raw materials with which to craft ever-evolving gear, machinery, and aesthetics?   Perhaps you will choose instead to seek out ever-greater foes to test your mettle in combat?   Maybe you will decide to construct your own city to house the host of mysterious allies you may encounter along your travels? <br><br>In the World of Terraria, the choice is yours!<br><br>Blending elements of classic action games with the freedom of sandbox-style creativity, Terraria is a unique gaming experience where both the journey and the destination are completely in the player’s control.   The Terraria adventure is truly as unique as the players themselves!  <br><br>Are you up for the monumental task of exploring, creating, and defending a world of your own?  <br><br>\\t\\t\\t\\t\\t\\t\\t<strong>Key features:</strong><br>\\t\\t\\t\\t\\t\\t\\t<ul class=\"bb_ul\"><li>Sandbox Play<br>\\t\\t\\t\\t\\t\\t\\t</li><li> Randomly generated worlds<br>\\t\\t\\t\\t\\t\\t\\t</li><li>Free Content Updates<br>\\t\\t\\t\\t\\t\\t\\t</li></ul>', 'short_description': 'Dig, fight, explore, build! Nothing is impossible in this action-packed adventure game. Four Pack also available!', 'supported_languages': 'English, French, Italian, German, Spanish - Spain, Polish, Portuguese - Brazil, Russian, Simplified Chinese', 'header_image': 'https://shared.akamai.steamstatic.com/store_item_assets/steam/apps/105600/header.jpg?t=1666290860', 'capsule_image': 'https://shared.akamai.steamstatic.com/store_item_assets/steam/apps/105600/capsule_231x87.jpg?t=1666290860', 'capsule_imagev5': 'https://shared.akamai.steamstatic.com/store_item_assets/steam/apps/105600/capsule_184x69.jpg?t=1666290860', 'website': 'http://www.terraria.org/', 'pc_requirements': {'minimum': '<h2 class=\"bb_tag\"><strong>REQUIRED</strong></h2><ul class=\"bb_ul\"><li><strong>OS: Windows Xp, Vista, 7, 8/8.1, 10</strong> <br>\\t\\t\\t\\t\\t\\t\\t\\t\\t\\t</li><li><strong>Processor: 2.0 Ghz</strong> <br>\\t\\t\\t\\t\\t\\t\\t\\t\\t\\t</li><li><strong>Memory: 2.5GB</strong><br>\\t\\t\\t\\t\\t\\t\\t\\t\\t\\t</li><li><strong>Hard Disk Space: 200MB </strong> \\t<br>\\t\\t\\t\\t\\t\\t\\t\\t\\t\\t</li><li><strong>Video Card: 128mb Video Memory, capable of Shader Model 2.0+</strong> <br>\\t\\t\\t\\t\\t\\t\\t\\t\\t\\t</li><li><strong>DirectX®: 9.0c or Greater</strong> \\t<br>\\t\\t\\t\\t\\t\\t\\t\\t\\t</li></ul>', 'recommended': '<h2 class=\"bb_tag\"><strong>RECOMMENDED</strong></h2><ul class=\"bb_ul\"><li><strong>OS: Windows 7, 8/8.1, 10</strong> <br>\\t\\t\\t\\t\\t\\t\\t\\t\\t\\t</li><li><strong>Processor: Dual Core 3.0 Ghz</strong> <br>\\t\\t\\t\\t\\t\\t\\t\\t\\t\\t</li><li><strong>Memory: 4GB</strong><br>\\t\\t\\t\\t\\t\\t\\t\\t\\t\\t</li><li><strong>Hard Disk Space: 200MB </strong> \\t<br>\\t\\t\\t\\t\\t\\t\\t\\t\\t\\t</li><li><strong>Video Card: 256mb Video Memory, capable of Shader Model 2.0+</strong> <br>\\t\\t\\t\\t\\t\\t\\t\\t\\t\\t</li><li><strong>DirectX®: 9.0c or Greater</strong> \\t<br>\\t\\t\\t\\t\\t\\t\\t\\t\\t</li></ul>'}, 'mac_requirements': {'minimum': '<h2 class=\"bb_tag\"><strong>REQUIRED</strong></h2><ul class=\"bb_ul\"><li><strong>OS: OSX 10.9.5 - 10.11.6</strong> <br>\\t\\t\\t\\t\\t\\t\\t\\t\\t\\t</li><li><strong>Processor: 2.0 Ghz</strong> <br>\\t\\t\\t\\t\\t\\t\\t\\t\\t\\t</li><li><strong>Memory: 2.5GB</strong><br>\\t\\t\\t\\t\\t\\t\\t\\t\\t\\t</li><li><strong>Hard Disk Space: 200MB </strong> \\t<br>\\t\\t\\t\\t\\t\\t\\t\\t\\t\\t</li><li><strong>Video Card: 128mb Video Memory, capable of OpenGL 3.0+ support (2.1 with ARB extensions acceptable</strong> <br>\\t\\t\\t\\t\\t\\t\\t\\t\\t</li></ul>', 'recommended': '<h2 class=\"bb_tag\"><strong>RECOMMENDED</strong></h2><ul class=\"bb_ul\"><li><strong>OS: OSX 10.9.5 - 10.11.6</strong> <br>\\t\\t\\t\\t\\t\\t\\t\\t\\t\\t</li><li><strong>Processor: Dual Core 3.0 Ghz</strong> <br>\\t\\t\\t\\t\\t\\t\\t\\t\\t\\t</li><li><strong>Memory: 4GB</strong><br>\\t\\t\\t\\t\\t\\t\\t\\t\\t\\t</li><li><strong>Hard Disk Space: 200MB </strong> \\t<br>\\t\\t\\t\\t\\t\\t\\t\\t\\t\\t</li><li><strong>Video Card: 256mb Video Memory, capable of OpenGL 3.0+ support (2.1 with ARB extensions acceptable</strong> <br>\\t\\t\\t\\t\\t\\t\\t\\t\\t</li></ul>'}, 'linux_requirements': {'minimum': '<h2 class=\"bb_tag\"><strong>REQUIRED</strong></h2>LINUX<br><ul class=\"bb_ul\"><li><strong>OS: Ubuntu 14.04 LTS</strong> <br>\\t\\t\\t\\t\\t\\t\\t\\t\\t\\t</li><li><strong>Processor: 2.0 Ghz</strong> <br>\\t\\t\\t\\t\\t\\t\\t\\t\\t\\t</li><li><strong>Memory: 2.5GB</strong><br>\\t\\t\\t\\t\\t\\t\\t\\t\\t\\t</li><li><strong>Hard Disk Space: 200MB </strong> \\t<br>\\t\\t\\t\\t\\t\\t\\t\\t\\t\\t</li><li><strong>Video Card: 128mb Video Memory, capable of OpenGL 3.0+ support (2.1 with ARB extensions acceptable</strong> <br>\\t\\t\\t\\t\\t\\t\\t\\t\\t</li></ul>', 'recommended': '<h2 class=\"bb_tag\"><strong>RECOMMENDED</strong></h2>LINUX<br><ul class=\"bb_ul\"><li><strong>OS: Ubuntu 14.04 LTS</strong> <br>\\t\\t\\t\\t\\t\\t\\t\\t\\t\\t</li><li><strong>Processor: Dual Core 3.0 Ghz</strong> <br>\\t\\t\\t\\t\\t\\t\\t\\t\\t\\t</li><li><strong>Memory: 4GB</strong><br>\\t\\t\\t\\t\\t\\t\\t\\t\\t\\t</li><li><strong>Hard Disk Space: 200MB </strong> \\t<br>\\t\\t\\t\\t\\t\\t\\t\\t\\t\\t</li><li><strong>Video Card: 256mb Video Memory, capable of OpenGL 3.0+ support (2.1 with ARB extensions acceptable</strong> <br>\\t\\t\\t\\t\\t\\t\\t\\t\\t</li></ul>'}}}}\n"
     ]
    }
   ],
   "source": [
    "import os\n",
    "from steam_web_api import Steam\n",
    "\n",
    "KEY = os.environ.get(\"STEAM_API_KEY\")\n",
    "steam = Steam(KEY)\n",
    "\n",
    "terraria_app_id = 105600\n",
    "\n",
    "# arguments: app_id\n",
    "user = steam.apps.get_app_details(terraria_app_id)\n",
    "print(user)"
   ]
  },
  {
   "cell_type": "code",
   "execution_count": 45,
   "metadata": {},
   "outputs": [],
   "source": [
    "import sqlite3\n",
    "import requests\n",
    "import tweepy\n",
    "import os\n",
    "import json\n",
    "from dotenv import load_dotenv\n",
    "import tempfile\n",
    "from github import Github\n",
    "import base64\n",
    "import time\n",
    "from datetime import datetime, timedelta\n",
    "import pytz\n"
   ]
  },
  {
   "cell_type": "code",
   "execution_count": 46,
   "metadata": {},
   "outputs": [
    {
     "data": {
      "text/plain": [
       "True"
      ]
     },
     "execution_count": 46,
     "metadata": {},
     "output_type": "execute_result"
    }
   ],
   "source": [
    "# Charger les variables d'environnement\n",
    "load_dotenv()"
   ]
  },
  {
   "cell_type": "code",
   "execution_count": 47,
   "metadata": {},
   "outputs": [],
   "source": [
    "# Configuration\n",
    "TWEETED_GAMES_FILE = 'tweeted_games.json'\n",
    "GITHUB_REPO = 'newgame-newtweet'\n",
    "GITHUB_FILE_PATH = 'tweeted_games.json'\n",
    "PARIS_TZ = pytz.timezone('Europe/Paris')\n",
    "TWEET_START_TIME = PARIS_TZ.localize(datetime.now().replace(hour=11, minute=0, second=0, microsecond=0))\n",
    "TWEET_INTERVAL = timedelta(minutes=10)\n",
    "TIMESTAMP_THRESHOLD = 1721681830 #pour faire démarrer les tweets à partir d'environ le 22/07, date de début de ce projet"
   ]
  },
  {
   "cell_type": "code",
   "execution_count": 58,
   "metadata": {},
   "outputs": [],
   "source": [
    "#pour télécharger steam_games.db de manière temporaire \n",
    "def download_db(url, local_path):\n",
    "    response = requests.get(url, stream=True)\n",
    "    if response.status_code == 200:\n",
    "        with open(local_path, 'wb') as f:\n",
    "            for chunk in response.iter_content(chunk_size=8192):\n",
    "                f.write(chunk)\n",
    "        return True\n",
    "    return False\n",
    "\n",
    "def connect_to_db(db_path):\n",
    "    return sqlite3.connect(db_path)\n",
    "\n",
    "#pour lire le contenu du fichier \"tweeted_games\"\n",
    "def get_github_file_content(file_path, decode=False):\n",
    "    url = f\"https://api.github.com/repos/{os.getenv('GITHUB_USERNAME')}/{GITHUB_REPO}/contents/{file_path}\"\n",
    "    headers = {'Authorization': f\"token {os.getenv('GITHUB_TOKEN')}\"}\n",
    "    response = requests.get(url, headers=headers)\n",
    "    \n",
    "    if response.status_code == 200:\n",
    "        content = base64.b64decode(response.json()['content'])\n",
    "        if decode:\n",
    "            try:\n",
    "                return json.loads(content.decode('utf-8'))\n",
    "            except json.JSONDecodeError:\n",
    "                print(f\"Le fichier {file_path} est vide ou n'est pas un JSON valide.\")\n",
    "                return []\n",
    "        return content\n",
    "    elif response.status_code == 404:\n",
    "        print(f\"Le fichier {file_path} n'existe pas.\")\n",
    "        return []\n",
    "    else:\n",
    "        print(f\"Erreur lors de la récupération du fichier: {response.status_code}\")\n",
    "        return None\n",
    "\n",
    "\n",
    "#pour actualiser le contenu du fichier \"tweeted_games\"\n",
    "def update_github_file(content, commit_message):\n",
    "    g = Github(os.getenv('GITHUB_TOKEN'))\n",
    "    repo = g.get_repo(f\"{os.getenv('GITHUB_USERNAME')}/{GITHUB_REPO}\")\n",
    "    try:\n",
    "        contents = repo.get_contents(GITHUB_FILE_PATH)\n",
    "        repo.update_file(GITHUB_FILE_PATH, commit_message, json.dumps(content), contents.sha)\n",
    "        print(f\"Fichier {GITHUB_FILE_PATH} mis à jour avec succès.\")\n",
    "    except Exception as e:\n",
    "        if \"Not Found\" in str(e):\n",
    "            repo.create_file(GITHUB_FILE_PATH, commit_message, json.dumps(content))\n",
    "            print(f\"Fichier {GITHUB_FILE_PATH} créé avec succès.\")\n",
    "        else:\n",
    "            print(f\"Erreur lors de la mise à jour du fichier: {str(e)}\")\n",
    "\n",
    "def load_tweeted_games():\n",
    "    content = get_github_file_content(GITHUB_FILE_PATH, decode=True)\n",
    "    return set(content) if content is not None else set()\n",
    "\n",
    "def save_tweeted_games(tweeted_games):\n",
    "    update_github_file(list(tweeted_games), \"Mise à jour des jeux tweetés\")\n",
    "\n",
    "def check_new_entries(conn, tweeted_games):\n",
    "    cursor = conn.cursor()\n",
    "    cursor.execute(\"\"\"\n",
    "        SELECT app_id \n",
    "        FROM games \n",
    "        WHERE first_seen >= ? AND app_id NOT IN (?)\n",
    "    \"\"\", (TIMESTAMP_THRESHOLD, ','.join(map(str, tweeted_games))))\n",
    "    return [app_id for (app_id,) in cursor.fetchall()]\n",
    "\n",
    "def get_game_details(app_id):\n",
    "    url = f\"https://store.steampowered.com/api/appdetails?appids={app_id}\"\n",
    "    response = requests.get(url)\n",
    "    if response.status_code == 200:\n",
    "        data = response.json()\n",
    "        if data[str(app_id)]['success']:\n",
    "            return data[str(app_id)]['data']\n",
    "    return None\n",
    "\n",
    "def filter_game(game_data):\n",
    "    return game_data['type'] == 'game' and not game_data.get('dlc', False)\n",
    "\n",
    "def get_twitter_client():\n",
    "    client = tweepy.Client(\n",
    "        bearer_token=os.getenv('TWITTER_BEARER_TOKEN'),\n",
    "        consumer_key=os.getenv('TWITTER_CONSUMER_KEY'),\n",
    "        consumer_secret=os.getenv('TWITTER_CONSUMER_SECRET'),\n",
    "        access_token=os.getenv('TWITTER_ACCESS_TOKEN'),\n",
    "        access_token_secret=os.getenv('TWITTER_ACCESS_TOKEN_SECRET')\n",
    "    )\n",
    "    return client\n",
    "\n",
    "def create_tweet_message(game_data):\n",
    "    name = game_data['name']\n",
    "    genres = \", \".join([genre['description'] for genre in game_data['genres']])\n",
    "    description = game_data['short_description']\n",
    "    developers = \", \".join(game_data['developers'])\n",
    "    return f\"{name}. {genres}. \\\"{description}\\\". Développé par: {developers}\"\n",
    "\n",
    "def tweet_message(message):\n",
    "    client = get_twitter_client()\n",
    "    try:\n",
    "        response = client.create_tweet(text=message)\n",
    "        return response.data['id']\n",
    "    except Exception as e:\n",
    "        print(f\"Erreur lors de la création du tweet: {e}\")\n",
    "        return None\n",
    "\n",
    "def wait_until(time_to_wait):\n",
    "    now = datetime.now(PARIS_TZ)\n",
    "    if now < time_to_wait:\n",
    "        time.sleep((time_to_wait - now).total_seconds())"
   ]
  },
  {
   "cell_type": "code",
   "execution_count": 59,
   "metadata": {},
   "outputs": [
    {
     "data": {
      "text/plain": [
       "True"
      ]
     },
     "execution_count": 59,
     "metadata": {},
     "output_type": "execute_result"
    }
   ],
   "source": [
    "download_db(\"https://github.com/belzanne/steampage-creation-date/blob/main/steam_games.db\",\"/Users/juliebelzanne/Documents/Hush_Crasher/steam_data/newgame-newtweet/steam_games.db\")"
   ]
  },
  {
   "cell_type": "code",
   "execution_count": 60,
   "metadata": {},
   "outputs": [
    {
     "data": {
      "text/plain": [
       "<sqlite3.Connection at 0x114a13e20>"
      ]
     },
     "execution_count": 60,
     "metadata": {},
     "output_type": "execute_result"
    }
   ],
   "source": [
    "connect_to_db(\"/Users/juliebelzanne/Documents/Hush_Crasher/steam_data/newgame-newtweet/steam_games.db\")"
   ]
  },
  {
   "cell_type": "code",
   "execution_count": 61,
   "metadata": {},
   "outputs": [
    {
     "data": {
      "text/plain": [
       "b''"
      ]
     },
     "execution_count": 61,
     "metadata": {},
     "output_type": "execute_result"
    }
   ],
   "source": [
    "get_github_file_content(GITHUB_FILE_PATH)"
   ]
  },
  {
   "cell_type": "code",
   "execution_count": 62,
   "metadata": {},
   "outputs": [
    {
     "name": "stdout",
     "output_type": "stream",
     "text": [
      "Le fichier tweeted_games.json est vide ou n'est pas un JSON valide.\n"
     ]
    },
    {
     "data": {
      "text/plain": [
       "set()"
      ]
     },
     "execution_count": 62,
     "metadata": {},
     "output_type": "execute_result"
    }
   ],
   "source": [
    "load_tweeted_games()"
   ]
  },
  {
   "cell_type": "code",
   "execution_count": 63,
   "metadata": {},
   "outputs": [],
   "source": [
    "def main():\n",
    "    # URL de la base de données sur GitHub \n",
    "    db_url = \"https://raw.githubusercontent.com/votre-username/votre-repo/main/steam_games.db\"\n",
    "    \n",
    "    tweeted_games = load_tweeted_games()\n",
    "    \n",
    "    with tempfile.NamedTemporaryFile(delete=False) as temp_db:\n",
    "        if download_db(db_url, temp_db.name):\n",
    "            conn = connect_to_db(temp_db.name)\n",
    "            new_entries = check_new_entries(conn, tweeted_games)\n",
    "            \n",
    "            next_tweet_time = TWEET_START_TIME\n",
    "            for app_id in new_entries:\n",
    "                game_data = get_game_details(app_id)\n",
    "                if game_data and filter_game(game_data):\n",
    "                    message = create_tweet_message(game_data)\n",
    "                    \n",
    "                    wait_until(next_tweet_time)\n",
    "                    tweet_id = tweet_message(message)\n",
    "                    \n",
    "                    if tweet_id:\n",
    "                        tweeted_games.add(app_id)\n",
    "                        print(f\"Tweet publié pour {game_data['name']} (ID: {tweet_id}) à {next_tweet_time}\")\n",
    "                        save_tweeted_games(tweeted_games)\n",
    "                        next_tweet_time += TWEET_INTERVAL\n",
    "            \n",
    "            conn.close()\n",
    "        else:\n",
    "            print(\"Échec du téléchargement de la base de données\")\n",
    "    \n",
    "    os.unlink(temp_db.name)  # Supprime le fichier temporaire\n",
    "\n"
   ]
  },
  {
   "cell_type": "code",
   "execution_count": 64,
   "metadata": {},
   "outputs": [
    {
     "name": "stdout",
     "output_type": "stream",
     "text": [
      "Le fichier tweeted_games.json est vide ou n'est pas un JSON valide.\n",
      "Échec du téléchargement de la base de données\n"
     ]
    }
   ],
   "source": [
    "if __name__ == \"__main__\":\n",
    "    main()"
   ]
  }
 ],
 "metadata": {
  "kernelspec": {
   "display_name": "newgame-newtweet-icRyx73a-py3.12",
   "language": "python",
   "name": "python3"
  },
  "language_info": {
   "codemirror_mode": {
    "name": "ipython",
    "version": 3
   },
   "file_extension": ".py",
   "mimetype": "text/x-python",
   "name": "python",
   "nbconvert_exporter": "python",
   "pygments_lexer": "ipython3",
   "version": "3.12.4"
  }
 },
 "nbformat": 4,
 "nbformat_minor": 2
}
