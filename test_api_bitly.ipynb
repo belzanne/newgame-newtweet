{
 "cells": [
  {
   "cell_type": "code",
   "execution_count": 2,
   "metadata": {},
   "outputs": [
    {
     "name": "stdout",
     "output_type": "stream",
     "text": [
      "L'URL originale https://store.steampowered.com/app/2990080/The_Lost_Gallery/ a été raccourcie en https://bit.ly/3zOh7PR\n"
     ]
    }
   ],
   "source": [
    "#abandonné, je préfère montrer un lien steam, parait plus legit\n",
    "\n",
    "import requests\n",
    "import json\n",
    "import os\n",
    "from dotenv import load_dotenv\n",
    "\n",
    "# Charger les variables d'environnement\n",
    "load_dotenv()\n",
    "\n",
    "def shorten_steam_url(long_url):\n",
    "    # Extraire l'ID du jeu de l'URL Steam\n",
    "    game_id = long_url.split('/')[4]\n",
    "\n",
    "    # Configuration de l'API Bitly\n",
    "    bitly_token = os.getenv('BITLY_ACCESS_TOKEN')\n",
    "    if not bitly_token:\n",
    "        raise ValueError(\"Le token d'accès Bitly n'est pas défini dans les variables d'environnement.\")\n",
    "\n",
    "    headers = {\n",
    "        'Authorization': f'Bearer {bitly_token}',\n",
    "        'Content-Type': 'application/json',\n",
    "    }\n",
    "\n",
    "    # Données pour la requête\n",
    "    data = {\n",
    "        \"long_url\": long_url,\n",
    "        \"domain\": \"bit.ly\",  # Vous pouvez changer ceci si vous avez un domaine personnalisé\n",
    "        \"custom_bitlink\": f\"bit.ly/{game_id}\"  # Utilisation de l'ID du jeu comme slug\n",
    "    }\n",
    "\n",
    "    # Effectuer la requête à l'API Bitly\n",
    "    response = requests.post('https://api-ssl.bitly.com/v4/bitlinks', headers=headers, json=data)\n",
    "\n",
    "    if response.status_code == 200 or response.status_code == 201:\n",
    "        return response.json()['link']\n",
    "    else:\n",
    "        print(f\"Erreur : {response.status_code}\")\n",
    "        print(response.text)\n",
    "        return None\n",
    "\n",
    "# URL à raccourcir\n",
    "long_url = \"https://store.steampowered.com/app/2990080/The_Lost_Gallery/\"\n",
    "\n",
    "# Raccourcir l'URL\n",
    "shortened_url = shorten_steam_url(long_url)\n",
    "\n",
    "if shortened_url:\n",
    "    print(f\"L'URL originale {long_url} a été raccourcie en {shortened_url}\")\n",
    "else:\n",
    "    print(\"Échec du raccourcissement de l'URL\")"
   ]
  }
 ],
 "metadata": {
  "kernelspec": {
   "display_name": "newgame-newtweet-icRyx73a-py3.12",
   "language": "python",
   "name": "python3"
  },
  "language_info": {
   "codemirror_mode": {
    "name": "ipython",
    "version": 3
   },
   "file_extension": ".py",
   "mimetype": "text/x-python",
   "name": "python",
   "nbconvert_exporter": "python",
   "pygments_lexer": "ipython3",
   "version": "3.12.4"
  }
 },
 "nbformat": 4,
 "nbformat_minor": 2
}
